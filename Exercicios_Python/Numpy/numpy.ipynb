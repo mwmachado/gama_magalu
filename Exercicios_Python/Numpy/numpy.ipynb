{
 "cells": [
  {
   "cell_type": "markdown",
   "metadata": {},
   "source": [
    "# Criação de array"
   ]
  },
  {
   "cell_type": "code",
   "execution_count": 90,
   "metadata": {},
   "outputs": [
    {
     "data": {
      "text/plain": [
       "array([ 1,  3,  5,  7,  9, 11, 13, 15, 17, 19, 21, 23, 25, 27, 29, 31, 33,\n",
       "       35])"
      ]
     },
     "execution_count": 90,
     "metadata": {},
     "output_type": "execute_result"
    }
   ],
   "source": [
    "import numpy as np\n",
    "\n",
    "array = np.arange(36)\n",
    "array = array.reshape([6,6])\n",
    "#seleção\n",
    "array[2]\n",
    "array[2,:]\n",
    "array[:, 2]\n",
    "array[2:5, 1:4]\n",
    "array[2:-1, 1:-2]\n",
    "array[:,[1,3,5]]\n",
    "array[:,1::2]\n",
    "array[::2,:]\n",
    "linha = 1\n",
    "coluna = 2\n",
    "array[linha:,coluna:]\n",
    "coluna = [1,2,3,5]\n",
    "linha = [0,2,4,5]\n",
    "array[:, [1,2,3,5]]\n",
    "array[linha, :]\n",
    "# coordenadas (batalha naval)\n",
    "array[linha, coluna]\n",
    "# diagonais\n",
    "array.diagonal()\n",
    "array.diagonal(1)\n",
    "array.diagonal(-1)\n",
    "array[:,::-1].diagonal()\n",
    "# mascaras\n",
    "array[array %2 == 0]\n",
    "filtro_pares = array %2 == 0\n",
    "array[pares]\n",
    "filtro_impar = array %2 == 1\n",
    "array[filtro_impar]\n",
    "\n"
   ]
  }
 ],
 "metadata": {
  "kernelspec": {
   "display_name": "Python 3.10.4 ('.venv': venv)",
   "language": "python",
   "name": "python3"
  },
  "language_info": {
   "codemirror_mode": {
    "name": "ipython",
    "version": 3
   },
   "file_extension": ".py",
   "mimetype": "text/x-python",
   "name": "python",
   "nbconvert_exporter": "python",
   "pygments_lexer": "ipython3",
   "version": "3.10.4"
  },
  "orig_nbformat": 4,
  "vscode": {
   "interpreter": {
    "hash": "0f3d194a17c649481a8e23c840cddb97111be6bc410b4daa44d4d2f0d8c96f2f"
   }
  }
 },
 "nbformat": 4,
 "nbformat_minor": 2
}
