{
  "cells": [
    {
      "cell_type": "markdown",
      "metadata": {
        "id": "jbxFJ_EaI652"
      },
      "source": [
        "#Instalação"
      ]
    },
    {
      "cell_type": "code",
      "execution_count": 1,
      "metadata": {
        "colab": {
          "base_uri": "https://localhost:8080/"
        },
        "id": "XRS5IKUsNm68",
        "outputId": "8536a4c5-fa13-4055-e483-89f196da7ca1"
      },
      "outputs": [],
      "source": [
        "#!pip install numpy"
      ]
    },
    {
      "cell_type": "markdown",
      "metadata": {
        "id": "LBK4_bFkI9cP"
      },
      "source": [
        "#Importação"
      ]
    },
    {
      "cell_type": "code",
      "execution_count": 2,
      "metadata": {
        "colab": {
          "base_uri": "https://localhost:8080/"
        },
        "id": "hS4_TuNONenJ",
        "outputId": "1291ee22-c814-4018-c805-5612008c456e"
      },
      "outputs": [
        {
          "data": {
            "text/plain": [
              "<module 'numpy' from '/home/matheus/Desktop/gama_magalu/.venv/lib/python3.10/site-packages/numpy/__init__.py'>"
            ]
          },
          "execution_count": 2,
          "metadata": {},
          "output_type": "execute_result"
        }
      ],
      "source": [
        "import numpy\n",
        "numpy"
      ]
    },
    {
      "cell_type": "markdown",
      "metadata": {
        "id": "ATmwK0pVI_Tv"
      },
      "source": [
        "# Lista vs Numpy"
      ]
    },
    {
      "cell_type": "code",
      "execution_count": 3,
      "metadata": {
        "colab": {
          "base_uri": "https://localhost:8080/"
        },
        "id": "kCg0aVyfNkX-",
        "outputId": "cd2b4280-7679-4536-bdf5-65af3064a1df"
      },
      "outputs": [
        {
          "data": {
            "text/plain": [
              "(list, numpy.ndarray)"
            ]
          },
          "execution_count": 3,
          "metadata": {},
          "output_type": "execute_result"
        }
      ],
      "source": [
        "lista = [1,2,3,4,5]\n",
        "array = numpy.array([1,2,3,4,5])\n",
        "type(lista), type(array)"
      ]
    },
    {
      "cell_type": "code",
      "execution_count": 4,
      "metadata": {
        "id": "Pe5IJin-mI_N"
      },
      "outputs": [],
      "source": [
        "lista = list(range(1000))\n",
        "array = numpy.array(lista, dtype=int)"
      ]
    },
    {
      "cell_type": "code",
      "execution_count": 5,
      "metadata": {
        "colab": {
          "base_uri": "https://localhost:8080/"
        },
        "id": "Phf_oO3hl_fM",
        "outputId": "493dbb31-9292-4c2c-b409-362baadd45e8"
      },
      "outputs": [
        {
          "data": {
            "text/plain": [
              "8056"
            ]
          },
          "execution_count": 5,
          "metadata": {},
          "output_type": "execute_result"
        }
      ],
      "source": [
        "import sys\n",
        "sys.getsizeof(lista)"
      ]
    },
    {
      "cell_type": "code",
      "execution_count": 6,
      "metadata": {
        "colab": {
          "base_uri": "https://localhost:8080/"
        },
        "id": "CcRJE3famGMQ",
        "outputId": "ca485fae-a7c0-4870-9232-03b9d58f1bf0"
      },
      "outputs": [
        {
          "data": {
            "text/plain": [
              "8112"
            ]
          },
          "execution_count": 6,
          "metadata": {},
          "output_type": "execute_result"
        }
      ],
      "source": [
        "sys.getsizeof(array)"
      ]
    },
    {
      "cell_type": "code",
      "execution_count": 7,
      "metadata": {
        "colab": {
          "base_uri": "https://localhost:8080/"
        },
        "id": "z1Z32Pi1OAiU",
        "outputId": "799d7d20-d1ce-46c5-b9b4-eb68f5d91a6f"
      },
      "outputs": [
        {
          "data": {
            "text/plain": [
              "1"
            ]
          },
          "execution_count": 7,
          "metadata": {},
          "output_type": "execute_result"
        }
      ],
      "source": [
        "array.ndim"
      ]
    },
    {
      "cell_type": "code",
      "execution_count": 8,
      "metadata": {
        "colab": {
          "base_uri": "https://localhost:8080/"
        },
        "id": "FmQmpbkJOKHc",
        "outputId": "5027401e-fb30-41d5-877b-c5988c455808"
      },
      "outputs": [
        {
          "data": {
            "text/plain": [
              "1000"
            ]
          },
          "execution_count": 8,
          "metadata": {},
          "output_type": "execute_result"
        }
      ],
      "source": [
        "len(lista)"
      ]
    },
    {
      "cell_type": "code",
      "execution_count": 9,
      "metadata": {
        "id": "lcjvtCwxONC7"
      },
      "outputs": [],
      "source": [
        "semestre = [[10,6,4,8], [5,6,5,6], [3,6,7,9]]\n",
        "s_array = numpy.array(semestre)"
      ]
    },
    {
      "cell_type": "code",
      "execution_count": 10,
      "metadata": {
        "colab": {
          "base_uri": "https://localhost:8080/"
        },
        "id": "RMAVzSLXOWGc",
        "outputId": "759a4e02-f4f9-4f03-fba4-dbca2e172b17"
      },
      "outputs": [
        {
          "data": {
            "text/plain": [
              "[[10, 6, 4, 8], [5, 6, 5, 6], [3, 6, 7, 9]]"
            ]
          },
          "execution_count": 10,
          "metadata": {},
          "output_type": "execute_result"
        }
      ],
      "source": [
        "semestre"
      ]
    },
    {
      "cell_type": "code",
      "execution_count": 11,
      "metadata": {
        "colab": {
          "base_uri": "https://localhost:8080/"
        },
        "id": "3JYQabN2Obj6",
        "outputId": "1d22f136-ea35-41c9-f83b-1e96b7e1d3af"
      },
      "outputs": [
        {
          "data": {
            "text/plain": [
              "array([[10,  6,  4,  8],\n",
              "       [ 5,  6,  5,  6],\n",
              "       [ 3,  6,  7,  9]])"
            ]
          },
          "execution_count": 11,
          "metadata": {},
          "output_type": "execute_result"
        }
      ],
      "source": [
        "s_array"
      ]
    },
    {
      "cell_type": "code",
      "execution_count": 12,
      "metadata": {
        "colab": {
          "base_uri": "https://localhost:8080/"
        },
        "id": "IreSQVl3PYbY",
        "outputId": "a77384df-0814-45e9-b38c-7a1d504ab03d"
      },
      "outputs": [
        {
          "data": {
            "text/plain": [
              "[[10, 6, 4, 8], [5, 6, 5, 6], [3, 6, 7, 9]]"
            ]
          },
          "execution_count": 12,
          "metadata": {},
          "output_type": "execute_result"
        }
      ],
      "source": [
        "#s_array[0][0] = 'matheus'\n",
        "semestre[0][0] = 10\n",
        "semestre"
      ]
    },
    {
      "cell_type": "markdown",
      "metadata": {
        "id": "k4vabg2TJDAr"
      },
      "source": [
        "# Básico Numpy"
      ]
    },
    {
      "cell_type": "code",
      "execution_count": 13,
      "metadata": {
        "colab": {
          "base_uri": "https://localhost:8080/"
        },
        "id": "5zBmWE1TPd0t",
        "outputId": "69409bb5-1c84-462e-a131-d7f11e172b22"
      },
      "outputs": [
        {
          "data": {
            "text/plain": [
              "dtype('int64')"
            ]
          },
          "execution_count": 13,
          "metadata": {},
          "output_type": "execute_result"
        }
      ],
      "source": [
        "# Tipo de dado do array\n",
        "s_array.dtype"
      ]
    },
    {
      "cell_type": "code",
      "execution_count": 14,
      "metadata": {
        "colab": {
          "base_uri": "https://localhost:8080/"
        },
        "id": "IB4_WJdqOch8",
        "outputId": "a955dfeb-1d63-4762-b2e3-0f7b4acb2223"
      },
      "outputs": [
        {
          "data": {
            "text/plain": [
              "2"
            ]
          },
          "execution_count": 14,
          "metadata": {},
          "output_type": "execute_result"
        }
      ],
      "source": [
        "# dimensões do array\n",
        "s_array.ndim"
      ]
    },
    {
      "cell_type": "code",
      "execution_count": 64,
      "metadata": {},
      "outputs": [
        {
          "data": {
            "text/plain": [
              "12"
            ]
          },
          "execution_count": 64,
          "metadata": {},
          "output_type": "execute_result"
        }
      ],
      "source": [
        "#tamanho do array\n",
        "s_array.size"
      ]
    },
    {
      "cell_type": "code",
      "execution_count": 15,
      "metadata": {
        "colab": {
          "base_uri": "https://localhost:8080/"
        },
        "id": "w_-ZbwcMOj18",
        "outputId": "48cbdb56-63ee-4fa0-baeb-c86f743ccf88"
      },
      "outputs": [
        {
          "data": {
            "text/plain": [
              "array([[12,  8,  6, 10],\n",
              "       [ 7,  8,  7,  8],\n",
              "       [ 5,  8,  9, 11]])"
            ]
          },
          "execution_count": 15,
          "metadata": {},
          "output_type": "execute_result"
        }
      ],
      "source": [
        "s_array+2"
      ]
    },
    {
      "cell_type": "code",
      "execution_count": 16,
      "metadata": {
        "colab": {
          "base_uri": "https://localhost:8080/"
        },
        "id": "Qab-7kPmQRXh",
        "outputId": "7bc5935d-47df-4c4a-f996-d9bf3c03f3f8"
      },
      "outputs": [
        {
          "data": {
            "text/plain": [
              "array([[8, 4, 2, 6],\n",
              "       [3, 4, 3, 4],\n",
              "       [1, 4, 5, 7]])"
            ]
          },
          "execution_count": 16,
          "metadata": {},
          "output_type": "execute_result"
        }
      ],
      "source": [
        "s_array-2"
      ]
    },
    {
      "cell_type": "code",
      "execution_count": 17,
      "metadata": {
        "colab": {
          "base_uri": "https://localhost:8080/"
        },
        "id": "polKw4cKQUE_",
        "outputId": "73e66c97-8fbc-4cc0-9196-3a0600964652"
      },
      "outputs": [
        {
          "data": {
            "text/plain": [
              "array([[5. , 3. , 2. , 4. ],\n",
              "       [2.5, 3. , 2.5, 3. ],\n",
              "       [1.5, 3. , 3.5, 4.5]])"
            ]
          },
          "execution_count": 17,
          "metadata": {},
          "output_type": "execute_result"
        }
      ],
      "source": [
        "s_array/2"
      ]
    },
    {
      "cell_type": "code",
      "execution_count": 18,
      "metadata": {
        "colab": {
          "base_uri": "https://localhost:8080/"
        },
        "id": "iUXw6xBsQVh3",
        "outputId": "829a0fcf-95a5-4767-a894-595d814e075f"
      },
      "outputs": [
        {
          "data": {
            "text/plain": [
              "array([[20, 12,  8, 16],\n",
              "       [10, 12, 10, 12],\n",
              "       [ 6, 12, 14, 18]])"
            ]
          },
          "execution_count": 18,
          "metadata": {},
          "output_type": "execute_result"
        }
      ],
      "source": [
        "s_array * 2"
      ]
    },
    {
      "cell_type": "code",
      "execution_count": 19,
      "metadata": {
        "colab": {
          "base_uri": "https://localhost:8080/"
        },
        "id": "G5sOAbefQb0E",
        "outputId": "e6d775ae-4f74-4f85-8502-815464363e97"
      },
      "outputs": [
        {
          "data": {
            "text/plain": [
              "array([[ True,  True,  True,  True],\n",
              "       [False,  True, False,  True],\n",
              "       [False,  True, False, False]])"
            ]
          },
          "execution_count": 19,
          "metadata": {},
          "output_type": "execute_result"
        }
      ],
      "source": [
        "s_array % 2 == 0"
      ]
    },
    {
      "cell_type": "code",
      "execution_count": 20,
      "metadata": {
        "colab": {
          "base_uri": "https://localhost:8080/"
        },
        "id": "us4OTEm3QddW",
        "outputId": "1b195e08-d3f0-4b9d-daff-1567e2f58d6b"
      },
      "outputs": [
        {
          "data": {
            "text/plain": [
              "array([[10,  6,  4,  8],\n",
              "       [ 5,  6,  5,  6],\n",
              "       [ 3,  6,  7,  9]])"
            ]
          },
          "execution_count": 20,
          "metadata": {},
          "output_type": "execute_result"
        }
      ],
      "source": [
        "s_array"
      ]
    },
    {
      "cell_type": "code",
      "execution_count": 21,
      "metadata": {
        "colab": {
          "base_uri": "https://localhost:8080/"
        },
        "id": "Oy6b6U4mQfl6",
        "outputId": "01af6d2a-f718-45ef-b25a-e527fc47b489"
      },
      "outputs": [
        {
          "data": {
            "text/plain": [
              "[[True, True, True, True],\n",
              " [False, True, False, True],\n",
              " [False, True, False, False]]"
            ]
          },
          "execution_count": 21,
          "metadata": {},
          "output_type": "execute_result"
        }
      ],
      "source": [
        "apoio = semestre.copy()\n",
        "for notas in range(len(semestre)):\n",
        "  for nota in range(len(semestre[notas])):\n",
        "    apoio[notas][nota] = semestre[notas][nota] % 2 == 0\n",
        "\n",
        "apoio"
      ]
    },
    {
      "cell_type": "code",
      "execution_count": 22,
      "metadata": {
        "colab": {
          "base_uri": "https://localhost:8080/"
        },
        "id": "Fta7KgbkQu0I",
        "outputId": "26747531-33df-451f-cb5b-65fafedc414f"
      },
      "outputs": [
        {
          "data": {
            "text/plain": [
              "array([[ True,  True,  True,  True],\n",
              "       [False,  True, False,  True],\n",
              "       [False,  True, False, False]])"
            ]
          },
          "execution_count": 22,
          "metadata": {},
          "output_type": "execute_result"
        }
      ],
      "source": [
        "s_array % 2 == 0"
      ]
    },
    {
      "cell_type": "code",
      "execution_count": 23,
      "metadata": {
        "colab": {
          "base_uri": "https://localhost:8080/"
        },
        "id": "eWNVIaKIR4jB",
        "outputId": "3b3783dc-dfd2-4211-a16c-c9774238d4f7"
      },
      "outputs": [
        {
          "data": {
            "text/plain": [
              "array([[10,  6,  4,  8],\n",
              "       [ 5,  6,  5,  6],\n",
              "       [ 3,  6,  7,  9]])"
            ]
          },
          "execution_count": 23,
          "metadata": {},
          "output_type": "execute_result"
        }
      ],
      "source": [
        "s_array"
      ]
    },
    {
      "cell_type": "code",
      "execution_count": 24,
      "metadata": {
        "colab": {
          "base_uri": "https://localhost:8080/"
        },
        "id": "2FsNEPYKRVjY",
        "outputId": "b0697790-8482-4c5d-e34a-b4bf9f8326fd"
      },
      "outputs": [
        {
          "data": {
            "text/plain": [
              "[5, 6, 6]"
            ]
          },
          "execution_count": 24,
          "metadata": {},
          "output_type": "execute_result"
        }
      ],
      "source": [
        "s_array[1, [0,1,-1]].tolist()"
      ]
    },
    {
      "cell_type": "code",
      "execution_count": 25,
      "metadata": {
        "colab": {
          "base_uri": "https://localhost:8080/"
        },
        "id": "StdHAAZbRXHT",
        "outputId": "d113d75b-1d2b-465b-8480-f95c979c2c96"
      },
      "outputs": [
        {
          "data": {
            "text/plain": [
              "[False, True, True]"
            ]
          },
          "execution_count": 25,
          "metadata": {},
          "output_type": "execute_result"
        }
      ],
      "source": [
        "semestre[1][0:2] + [semestre[1][3]]"
      ]
    },
    {
      "cell_type": "code",
      "execution_count": 26,
      "metadata": {
        "colab": {
          "base_uri": "https://localhost:8080/"
        },
        "id": "2hTE0YhGU4CJ",
        "outputId": "7b7c7069-965e-47a4-8355-fc33ad92b68e"
      },
      "outputs": [
        {
          "data": {
            "text/plain": [
              "array([[10.,  6.,  4.,  8.],\n",
              "       [ 5.,  6.,  5.,  6.],\n",
              "       [ 3.,  6.,  7.,  9.]])"
            ]
          },
          "execution_count": 26,
          "metadata": {},
          "output_type": "execute_result"
        }
      ],
      "source": [
        "s_array.astype(float)"
      ]
    },
    {
      "cell_type": "markdown",
      "metadata": {
        "id": "hFynJ2AyJHl0"
      },
      "source": [
        "# Criação de Arrays"
      ]
    },
    {
      "cell_type": "code",
      "execution_count": 27,
      "metadata": {
        "colab": {
          "base_uri": "https://localhost:8080/"
        },
        "id": "gRCcpypGU42q",
        "outputId": "6934fb00-25eb-4dc3-8b96-77204916351f"
      },
      "outputs": [
        {
          "data": {
            "text/plain": [
              "array([[[0., 0., 0., 0.],\n",
              "        [0., 0., 0., 0.],\n",
              "        [0., 0., 0., 0.]],\n",
              "\n",
              "       [[0., 0., 0., 0.],\n",
              "        [0., 0., 0., 0.],\n",
              "        [0., 0., 0., 0.]]])"
            ]
          },
          "execution_count": 27,
          "metadata": {},
          "output_type": "execute_result"
        }
      ],
      "source": [
        "import numpy as np\n",
        "#numpy.array\n",
        "np.zeros([2, 3, 4])#2x3x4"
      ]
    },
    {
      "cell_type": "code",
      "execution_count": 28,
      "metadata": {
        "colab": {
          "base_uri": "https://localhost:8080/"
        },
        "id": "9Tb8gzasVMlO",
        "outputId": "7ed2bce7-ef0a-405c-f99c-efdbb003e480"
      },
      "outputs": [
        {
          "data": {
            "text/plain": [
              "array([[[1., 1., 1., 1.],\n",
              "        [1., 1., 1., 1.],\n",
              "        [1., 1., 1., 1.]],\n",
              "\n",
              "       [[1., 1., 1., 1.],\n",
              "        [1., 1., 1., 1.],\n",
              "        [1., 1., 1., 1.]]])"
            ]
          },
          "execution_count": 28,
          "metadata": {},
          "output_type": "execute_result"
        }
      ],
      "source": [
        "np.ones([2, 3, 4])#2x3x4"
      ]
    },
    {
      "cell_type": "code",
      "execution_count": 29,
      "metadata": {
        "colab": {
          "base_uri": "https://localhost:8080/"
        },
        "id": "DfKeLo3cV3sr",
        "outputId": "4c231831-d934-42b2-c4a1-7309c5e94f74"
      },
      "outputs": [
        {
          "data": {
            "text/plain": [
              "array([[[10, 10, 10, 10],\n",
              "        [10, 10, 10, 10],\n",
              "        [10, 10, 10, 10]],\n",
              "\n",
              "       [[10, 10, 10, 10],\n",
              "        [10, 10, 10, 10],\n",
              "        [10, 10, 10, 10]]])"
            ]
          },
          "execution_count": 29,
          "metadata": {},
          "output_type": "execute_result"
        }
      ],
      "source": [
        "np.full([2, 3, 4], 10)"
      ]
    },
    {
      "cell_type": "code",
      "execution_count": 30,
      "metadata": {
        "colab": {
          "base_uri": "https://localhost:8080/"
        },
        "id": "skxR15FmWIt-",
        "outputId": "3f973296-7abf-4887-a319-bd91ff44c9c3"
      },
      "outputs": [
        {
          "data": {
            "text/plain": [
              "array([[[ 4,  0,  1,  5],\n",
              "        [ 3, 10,  0,  2],\n",
              "        [ 9,  2,  9,  5]],\n",
              "\n",
              "       [[ 9,  8,  9,  3],\n",
              "        [ 1,  3,  6,  5],\n",
              "        [ 1,  5,  8,  9]]])"
            ]
          },
          "execution_count": 30,
          "metadata": {},
          "output_type": "execute_result"
        }
      ],
      "source": [
        "notas = np.random.randint(low=0, high=11, size=[2, 3, 4])\n",
        "notas"
      ]
    },
    {
      "cell_type": "code",
      "execution_count": 31,
      "metadata": {
        "colab": {
          "base_uri": "https://localhost:8080/"
        },
        "id": "DkaAjhOoZvUR",
        "outputId": "d4482f35-548e-4ea5-e87c-9c46404055c9"
      },
      "outputs": [
        {
          "data": {
            "text/plain": [
              "array([[[10, 10, 10, 10],\n",
              "        [10, 10, 10, 10],\n",
              "        [10, 10, 10, 10]],\n",
              "\n",
              "       [[10, 10, 10, 10],\n",
              "        [10, 10, 10, 10],\n",
              "        [10, 10, 10, 10]]])"
            ]
          },
          "execution_count": 31,
          "metadata": {},
          "output_type": "execute_result"
        }
      ],
      "source": [
        "np.full_like(notas, 10)"
      ]
    },
    {
      "cell_type": "code",
      "execution_count": 32,
      "metadata": {
        "colab": {
          "base_uri": "https://localhost:8080/"
        },
        "id": "U_csq2D8c45Z",
        "outputId": "2e9b7281-33f9-4f01-8131-9cc52fa2de7b"
      },
      "outputs": [
        {
          "data": {
            "text/plain": [
              "array([[[ 0,  1,  2,  3],\n",
              "        [ 4,  5,  6,  7],\n",
              "        [ 8,  9, 10, 11]],\n",
              "\n",
              "       [[12, 13, 14, 15],\n",
              "        [16, 17, 18, 19],\n",
              "        [20, 21, 22, 23]]])"
            ]
          },
          "execution_count": 32,
          "metadata": {},
          "output_type": "execute_result"
        }
      ],
      "source": [
        "np.arange(start=0, stop=24).reshape([2,3,4]) "
      ]
    },
    {
      "cell_type": "code",
      "execution_count": 33,
      "metadata": {
        "colab": {
          "base_uri": "https://localhost:8080/"
        },
        "id": "1P5JtwOXc-pp",
        "outputId": "c23ff443-09a4-4e0f-c465-ae360ddc5a32"
      },
      "outputs": [
        {
          "data": {
            "text/plain": [
              "(24, 24)"
            ]
          },
          "execution_count": 33,
          "metadata": {},
          "output_type": "execute_result"
        }
      ],
      "source": [
        "2*3*4, notas.size"
      ]
    },
    {
      "cell_type": "code",
      "execution_count": 34,
      "metadata": {
        "colab": {
          "base_uri": "https://localhost:8080/"
        },
        "id": "pJKLxmLWmfAe",
        "outputId": "41b7c363-66d1-43ee-876e-6a0b794a382e"
      },
      "outputs": [
        {
          "data": {
            "text/plain": [
              "array([[[0., 0., 0., 0.],\n",
              "        [0., 0., 0., 0.],\n",
              "        [0., 0., 0., 0.]],\n",
              "\n",
              "       [[1., 1., 1., 1.],\n",
              "        [1., 1., 1., 1.],\n",
              "        [1., 1., 1., 1.]]])"
            ]
          },
          "execution_count": 34,
          "metadata": {},
          "output_type": "execute_result"
        }
      ],
      "source": [
        "exemplo = np.zeros([2,3,4]) #[arquivo, planilha, linha, coluna]\n",
        "exemplo[1] = 1\n",
        "exemplo"
      ]
    },
    {
      "cell_type": "code",
      "execution_count": 35,
      "metadata": {
        "colab": {
          "base_uri": "https://localhost:8080/"
        },
        "id": "wyzXGU0nqj-6",
        "outputId": "3b931a23-f702-46b6-ebc0-0185dee7f3c1"
      },
      "outputs": [
        {
          "data": {
            "text/plain": [
              "array([[[0., 0., 0., 0.],\n",
              "        [0., 0., 0., 0.],\n",
              "        [0., 0., 0., 0.]],\n",
              "\n",
              "       [[1., 1., 1., 1.],\n",
              "        [1., 1., 1., 1.],\n",
              "        [1., 1., 1., 1.]]])"
            ]
          },
          "execution_count": 35,
          "metadata": {},
          "output_type": "execute_result"
        }
      ],
      "source": [
        "exemplo"
      ]
    },
    {
      "cell_type": "code",
      "execution_count": 36,
      "metadata": {
        "colab": {
          "base_uri": "https://localhost:8080/"
        },
        "id": "hdsnSb6Yn74o",
        "outputId": "add37440-1957-4ea9-8b9d-8566170bd34c"
      },
      "outputs": [
        {
          "data": {
            "text/plain": [
              "array([[0.07363085, 0.52331368],\n",
              "       [0.49306378, 0.68258431]])"
            ]
          },
          "execution_count": 36,
          "metadata": {},
          "output_type": "execute_result"
        }
      ],
      "source": [
        "# Exemplo de números decimais aleatórios numa matriz entre 0 e 1 (não incluso)\n",
        "np.random.rand(2,2) # numeros aleatórios entre [0, 1)"
      ]
    },
    {
      "cell_type": "code",
      "execution_count": 47,
      "metadata": {},
      "outputs": [
        {
          "data": {
            "text/plain": [
              "array([[ 3.02436684, 23.99060157],\n",
              "       [43.69799442, 14.1981677 ]])"
            ]
          },
          "execution_count": 47,
          "metadata": {},
          "output_type": "execute_result"
        }
      ],
      "source": [
        "# Exemplo de números decimais aleatórios numa matriz 2x2 de 0 a 50 (não incluso)\n",
        "np.random.rand(2,2) #[0, 1) * 50-> [0, 50) 0..49.99999999\n",
        "np.random.rand(2,2)*50 "
      ]
    },
    {
      "cell_type": "code",
      "execution_count": 66,
      "metadata": {},
      "outputs": [
        {
          "data": {
            "text/plain": [
              "array([['vermelho', 'azul', 'amarelo', 'amarelo', 'verde'],\n",
              "       ['vermelho', 'verde', 'vermelho', 'vermelho', 'verde'],\n",
              "       ['amarelo', 'vermelho', 'vermelho', 'amarelo', 'azul'],\n",
              "       ['verde', 'azul', 'vermelho', 'amarelo', 'verde'],\n",
              "       ['verde', 'vermelho', 'amarelo', 'verde', 'amarelo']], dtype='<U8')"
            ]
          },
          "execution_count": 66,
          "metadata": {},
          "output_type": "execute_result"
        }
      ],
      "source": [
        "#Geração de array baseado em uma lista\n",
        "# Exemplo de geração textos aleatórios\n",
        "\n",
        "opcoes = ['azul', 'vermelho', 'verde', 'amarelo']\n",
        "cores = np.random.choice(opcoes, size=[5,5])\n",
        "cores"
      ]
    },
    {
      "cell_type": "code",
      "execution_count": 75,
      "metadata": {},
      "outputs": [
        {
          "data": {
            "text/plain": [
              "array(['vermelho', 'azul', 'amarelo', 'amarelo', 'verde', 'vermelho',\n",
              "       'verde', 'vermelho', 'vermelho', 'verde', 'amarelo', 'vermelho',\n",
              "       'vermelho', 'amarelo', 'azul', 'verde', 'azul', 'vermelho',\n",
              "       'amarelo', 'verde', 'verde', 'vermelho', 'amarelo', 'verde',\n",
              "       'amarelo'], dtype='<U8')"
            ]
          },
          "execution_count": 75,
          "metadata": {},
          "output_type": "execute_result"
        }
      ],
      "source": [
        "#cores.ravel()\n",
        "lista_cores = cores.reshape([25])\n",
        "lista_cores"
      ]
    },
    {
      "cell_type": "code",
      "execution_count": 69,
      "metadata": {},
      "outputs": [
        {
          "name": "stdout",
          "output_type": "stream",
          "text": [
            "\n",
            "Seguem as quantidade de cada cor:\n",
            "Azul: 3\n",
            "vermelho: 8\n",
            "verde: 7\n",
            "amarelo: 7\n",
            "Total: 25\n",
            "\n"
          ]
        }
      ],
      "source": [
        "cores == 'verde'\n",
        "cores[cores == 'verde'].size\n",
        "len(cores[cores == 'verde'])\n",
        "\n",
        "print(f'''\n",
        "Seguem as quantidade de cada cor:\n",
        "Azul: {cores[cores=='azul'].size}\n",
        "vermelho: {len(cores[cores=='vermelho'])}\n",
        "verde: {cores[cores=='verde'].size}\n",
        "amarelo: {len(cores[cores=='amarelo'])}\n",
        "Total: {cores.size}\n",
        "''')"
      ]
    },
    {
      "cell_type": "code",
      "execution_count": 80,
      "metadata": {},
      "outputs": [
        {
          "name": "stdout",
          "output_type": "stream",
          "text": [
            "Total: 25\n"
          ]
        },
        {
          "data": {
            "text/plain": [
              "vermelho    8\n",
              "amarelo     7\n",
              "verde       7\n",
              "azul        3\n",
              "Name: cores, dtype: int64"
            ]
          },
          "execution_count": 80,
          "metadata": {},
          "output_type": "execute_result"
        }
      ],
      "source": [
        "# Exemplo com pandas\n",
        "import pandas as pd\n",
        "serie_cor = pd.Series(lista_cores, name='cores')\n",
        "print(f'Total: {serie_cor.count()}')\n",
        "serie_cor.value_counts()"
      ]
    },
    {
      "cell_type": "code",
      "execution_count": 38,
      "metadata": {
        "colab": {
          "base_uri": "https://localhost:8080/"
        },
        "id": "PB8BNiK6oSQS",
        "outputId": "1aab0516-1249-4b62-c30b-e6592487294d"
      },
      "outputs": [
        {
          "data": {
            "text/plain": [
              "array([[0., 0., 0., 0.],\n",
              "       [0., 0., 0., 0.],\n",
              "       [0., 0., 0., 0.],\n",
              "       [0., 0., 0., 0.],\n",
              "       [1., 1., 1., 1.],\n",
              "       [1., 1., 1., 1.],\n",
              "       [1., 1., 1., 1.],\n",
              "       [1., 1., 1., 1.]])"
            ]
          },
          "execution_count": 38,
          "metadata": {},
          "output_type": "execute_result"
        }
      ],
      "source": [
        "# repete o array para alguma das dimensões\n",
        "# lembrando que, se quiser repetir para baixo, o array tem que ter 2 dimensões\n",
        "array = np.array([[0., 0., 0., 0.], [1,1,1,1]])\n",
        "array\n",
        "# [linha, coluna]\n",
        "np.repeat(array, 4, axis=0) # eixo das linhas"
      ]
    },
    {
      "cell_type": "code",
      "execution_count": 39,
      "metadata": {
        "colab": {
          "base_uri": "https://localhost:8080/"
        },
        "id": "lw-1qMw0pCYo",
        "outputId": "7fcd08e1-97fb-4615-abd3-ee85908b824b"
      },
      "outputs": [
        {
          "data": {
            "text/plain": [
              "array([[0., 0., 0., 0., 0., 0., 0., 0.],\n",
              "       [1., 1., 1., 1., 1., 1., 1., 1.]])"
            ]
          },
          "execution_count": 39,
          "metadata": {},
          "output_type": "execute_result"
        }
      ],
      "source": [
        "np.repeat(array, 2, axis=1) # eixo das colunas"
      ]
    },
    {
      "cell_type": "code",
      "execution_count": 52,
      "metadata": {},
      "outputs": [
        {
          "data": {
            "text/plain": [
              "array([[1, 2, 3, 4],\n",
              "       [5, 6, 7, 8]])"
            ]
          },
          "execution_count": 52,
          "metadata": {},
          "output_type": "execute_result"
        }
      ],
      "source": [
        "array1 = np.array([1,2,3,4])\n",
        "array2 = np.array([5,6,7,8])\n",
        "\n",
        "np.vstack([array1, array2]) # concatenar arrays na vertical\n"
      ]
    },
    {
      "cell_type": "code",
      "execution_count": 53,
      "metadata": {},
      "outputs": [
        {
          "data": {
            "text/plain": [
              "array([1, 2, 3, 4, 5, 6, 7, 8])"
            ]
          },
          "execution_count": 53,
          "metadata": {},
          "output_type": "execute_result"
        }
      ],
      "source": [
        "#np.concatenate([array1, array2])\n",
        "np.hstack([array1, array2]) # concatenar arrays na horizontal"
      ]
    },
    {
      "cell_type": "markdown",
      "metadata": {
        "id": "hCp9Y5OsJMsG"
      },
      "source": [
        "# Seleção e Máscaras"
      ]
    },
    {
      "cell_type": "code",
      "execution_count": 40,
      "metadata": {
        "colab": {
          "base_uri": "https://localhost:8080/"
        },
        "id": "BHQVnpRcsm3l",
        "outputId": "a838b0a9-d047-4e3d-ad62-82c96ce74a28"
      },
      "outputs": [
        {
          "data": {
            "text/plain": [
              "array([[ 0,  1,  2,  3,  4,  5],\n",
              "       [ 6,  7,  8,  9, 10, 11],\n",
              "       [12, 13, 14, 15, 16, 17],\n",
              "       [18, 19, 20, 21, 22, 23],\n",
              "       [24, 25, 26, 27, 28, 29],\n",
              "       [30, 31, 32, 33, 34, 35]])"
            ]
          },
          "execution_count": 40,
          "metadata": {},
          "output_type": "execute_result"
        }
      ],
      "source": [
        "#list(range(0, 36))\n",
        "#list(range(36))\n",
        "import numpy as np\n",
        "\n",
        "'''\n",
        "array = np.arange(0,36)\n",
        "array = array.reshape([6,6])\n",
        "array\n",
        "'''\n",
        "\n",
        "array = np.arange(0,36).reshape([6,6])\n",
        "array"
      ]
    },
    {
      "cell_type": "code",
      "execution_count": 41,
      "metadata": {
        "colab": {
          "base_uri": "https://localhost:8080/"
        },
        "id": "g7CpmMxlOOUy",
        "outputId": "efda9ad3-5691-4e5d-a4c6-eec23b556e9d"
      },
      "outputs": [
        {
          "data": {
            "text/plain": [
              "array([12, 13, 14, 15, 16, 17])"
            ]
          },
          "execution_count": 41,
          "metadata": {},
          "output_type": "execute_result"
        }
      ],
      "source": [
        "#[arquivo, planilha, linha, coluna]\n",
        "#[linha, coluna]\n",
        "# linha\n",
        "array[2] # como a primeira dimensão é linha, seleciona a linha de índice 2\n",
        "#array[2, :]"
      ]
    },
    {
      "cell_type": "code",
      "execution_count": 42,
      "metadata": {
        "colab": {
          "base_uri": "https://localhost:8080/"
        },
        "id": "i36hoM8YPMJP",
        "outputId": "bc6e5898-973d-416e-ee4c-680b8e77d314"
      },
      "outputs": [
        {
          "data": {
            "text/plain": [
              "array([ 2,  8, 14, 20, 26, 32])"
            ]
          },
          "execution_count": 42,
          "metadata": {},
          "output_type": "execute_result"
        }
      ],
      "source": [
        "#coluna\n",
        "array[:, 2] # os : pegam todas as linhas, e seleciona a coluna de índice 2"
      ]
    },
    {
      "cell_type": "code",
      "execution_count": 43,
      "metadata": {
        "colab": {
          "base_uri": "https://localhost:8080/"
        },
        "id": "gLPhm2XQPRkF",
        "outputId": "44379e3f-275f-4bbd-80af-06660414f23b"
      },
      "outputs": [
        {
          "data": {
            "text/plain": [
              "array([[13, 14, 15],\n",
              "       [19, 20, 21],\n",
              "       [25, 26, 27]])"
            ]
          },
          "execution_count": 43,
          "metadata": {},
          "output_type": "execute_result"
        }
      ],
      "source": [
        "#array[2:-1, 1:-2]\n",
        "array[2:5, 1:4] # Seleciona da linha 2 a 5(não incluso), e linhas 1 a 4(não incluso)"
      ]
    },
    {
      "cell_type": "code",
      "execution_count": 44,
      "metadata": {
        "colab": {
          "base_uri": "https://localhost:8080/"
        },
        "id": "F3Mra00OPwY_",
        "outputId": "c814870d-5d2b-4e44-8e17-bfb44ca1b64f"
      },
      "outputs": [
        {
          "data": {
            "text/plain": [
              "array([[ 1,  3,  5],\n",
              "       [ 7,  9, 11],\n",
              "       [13, 15, 17],\n",
              "       [19, 21, 23],\n",
              "       [25, 27, 29],\n",
              "       [31, 33, 35]])"
            ]
          },
          "execution_count": 44,
          "metadata": {},
          "output_type": "execute_result"
        }
      ],
      "source": [
        "array[:, [1,3,5]] # : seleciona todas as linhas, e as colunas 1,3,5"
      ]
    },
    {
      "cell_type": "code",
      "execution_count": 45,
      "metadata": {
        "colab": {
          "base_uri": "https://localhost:8080/"
        },
        "id": "3-a7HGbeQVSp",
        "outputId": "70bf9762-8cca-4bfe-925c-e6f09085d790"
      },
      "outputs": [
        {
          "data": {
            "text/plain": [
              "array([[ 0,  1,  2,  3,  4,  5],\n",
              "       [12, 13, 14, 15, 16, 17],\n",
              "       [24, 25, 26, 27, 28, 29]])"
            ]
          },
          "execution_count": 45,
          "metadata": {},
          "output_type": "execute_result"
        }
      ],
      "source": [
        "array[[0,2,4], :] # seleciona as linhas 0, 2, 4 e todas as colunas\n",
        "#array[::2,:]"
      ]
    },
    {
      "cell_type": "code",
      "execution_count": 46,
      "metadata": {
        "colab": {
          "base_uri": "https://localhost:8080/"
        },
        "id": "oTEuEKXWQcNT",
        "outputId": "51cda137-3d78-4265-ce49-93626cd4ccf3"
      },
      "outputs": [
        {
          "data": {
            "text/plain": [
              "array([[ 6,  7,  8,  9, 10, 11],\n",
              "       [18, 19, 20, 21, 22, 23]])"
            ]
          },
          "execution_count": 46,
          "metadata": {},
          "output_type": "execute_result"
        }
      ],
      "source": [
        "#[linha, coluna]\n",
        "#[inicio:fim_nao_incluso:passo, inicio:fim_nao_incluso:passo]\n",
        "array[1:5:2,:] # seleciona da linha 1 a 5 (não incluso) andando de 2 em 2, e todas as colunas"
      ]
    },
    {
      "cell_type": "markdown",
      "metadata": {},
      "source": []
    },
    {
      "cell_type": "markdown",
      "metadata": {},
      "source": []
    }
  ],
  "metadata": {
    "colab": {
      "provenance": []
    },
    "kernelspec": {
      "display_name": "Python 3.10.4 ('.venv': venv)",
      "language": "python",
      "name": "python3"
    },
    "language_info": {
      "codemirror_mode": {
        "name": "ipython",
        "version": 3
      },
      "file_extension": ".py",
      "mimetype": "text/x-python",
      "name": "python",
      "nbconvert_exporter": "python",
      "pygments_lexer": "ipython3",
      "version": "3.10.4"
    },
    "vscode": {
      "interpreter": {
        "hash": "0f3d194a17c649481a8e23c840cddb97111be6bc410b4daa44d4d2f0d8c96f2f"
      }
    }
  },
  "nbformat": 4,
  "nbformat_minor": 0
}
